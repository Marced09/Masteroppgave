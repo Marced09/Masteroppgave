{
 "cells": [
  {
   "cell_type": "code",
   "execution_count": 1,
   "metadata": {},
   "outputs": [
    {
     "name": "stderr",
     "output_type": "stream",
     "text": [
      "C:\\Users\\Bruker\\AppData\\Local\\Temp\\ipykernel_11924\\3273255091.py:1: DeprecationWarning: \n",
      "Pyarrow will become a required dependency of pandas in the next major release of pandas (pandas 3.0),\n",
      "(to allow more performant data types, such as the Arrow string type, and better interoperability with other libraries)\n",
      "but was not found to be installed on your system.\n",
      "If this would cause problems for you,\n",
      "please provide us feedback at https://github.com/pandas-dev/pandas/issues/54466\n",
      "        \n",
      "  import pandas as pd\n"
     ]
    }
   ],
   "source": [
    "import pandas as pd\n",
    "import matplotlib.pyplot as ply\n"
   ]
  },
  {
   "cell_type": "code",
   "execution_count": 2,
   "metadata": {},
   "outputs": [
    {
     "name": "stdout",
     "output_type": "stream",
     "text": [
      "Column is a string\n"
     ]
    }
   ],
   "source": [
    "ds1 = pd.read_csv(\"production_per_group_mba_hour-all-no-0000-00-00.csv\", delimiter=\";\")\n",
    "\n",
    "#ds1.head()\n",
    "\n",
    "dtype = ds1['VOLUM_KWH'].dtype\n",
    "if dtype == 'float64':\n",
    "    print(\"Column is a float\")\n",
    "elif dtype == 'object':\n",
    "    print(\"Column is a string\")\n",
    "else:\n",
    "    print(\"Column is neither a string nor a float\")\n"
   ]
  },
  {
   "cell_type": "markdown",
   "metadata": {},
   "source": []
  },
  {
   "cell_type": "code",
   "execution_count": 3,
   "metadata": {},
   "outputs": [
    {
     "data": {
      "text/html": [
       "<div>\n",
       "<style scoped>\n",
       "    .dataframe tbody tr th:only-of-type {\n",
       "        vertical-align: middle;\n",
       "    }\n",
       "\n",
       "    .dataframe tbody tr th {\n",
       "        vertical-align: top;\n",
       "    }\n",
       "\n",
       "    .dataframe thead th {\n",
       "        text-align: right;\n",
       "    }\n",
       "</style>\n",
       "<table border=\"1\" class=\"dataframe\">\n",
       "  <thead>\n",
       "    <tr style=\"text-align: right;\">\n",
       "      <th></th>\n",
       "      <th>STARTTID</th>\n",
       "      <th>SLUTTID</th>\n",
       "      <th>PRISOMRÅDE</th>\n",
       "      <th>PRODUKSJONSTYPE</th>\n",
       "      <th>VOLUM_KWH</th>\n",
       "    </tr>\n",
       "  </thead>\n",
       "  <tbody>\n",
       "    <tr>\n",
       "      <th>719036</th>\n",
       "      <td>2023-12-31T23:00:00+01:00</td>\n",
       "      <td>2024-01-01T00:00:00+01:00</td>\n",
       "      <td>NO5</td>\n",
       "      <td>Vann uspesifisert</td>\n",
       "      <td>1988294,302</td>\n",
       "    </tr>\n",
       "    <tr>\n",
       "      <th>719037</th>\n",
       "      <td>2023-12-31T23:00:00+01:00</td>\n",
       "      <td>2024-01-01T00:00:00+01:00</td>\n",
       "      <td>NO5</td>\n",
       "      <td>Annen uspesifisert</td>\n",
       "      <td>0,000</td>\n",
       "    </tr>\n",
       "    <tr>\n",
       "      <th>719038</th>\n",
       "      <td>2023-12-31T23:00:00+01:00</td>\n",
       "      <td>2024-01-01T00:00:00+01:00</td>\n",
       "      <td>NO5</td>\n",
       "      <td>Sol uspesifisert</td>\n",
       "      <td>53,894</td>\n",
       "    </tr>\n",
       "    <tr>\n",
       "      <th>719039</th>\n",
       "      <td>2023-12-31T23:00:00+01:00</td>\n",
       "      <td>2024-01-01T00:00:00+01:00</td>\n",
       "      <td>NO5</td>\n",
       "      <td>Termisk uspesifisert</td>\n",
       "      <td>15734,000</td>\n",
       "    </tr>\n",
       "    <tr>\n",
       "      <th>719040</th>\n",
       "      <td>2023-12-31T23:00:00+01:00</td>\n",
       "      <td>2024-01-01T00:00:00+01:00</td>\n",
       "      <td>NO5</td>\n",
       "      <td>Vind uspesifisert</td>\n",
       "      <td>0,000</td>\n",
       "    </tr>\n",
       "  </tbody>\n",
       "</table>\n",
       "</div>"
      ],
      "text/plain": [
       "                         STARTTID                    SLUTTID PRISOMRÅDE  \\\n",
       "719036  2023-12-31T23:00:00+01:00  2024-01-01T00:00:00+01:00        NO5   \n",
       "719037  2023-12-31T23:00:00+01:00  2024-01-01T00:00:00+01:00        NO5   \n",
       "719038  2023-12-31T23:00:00+01:00  2024-01-01T00:00:00+01:00        NO5   \n",
       "719039  2023-12-31T23:00:00+01:00  2024-01-01T00:00:00+01:00        NO5   \n",
       "719040  2023-12-31T23:00:00+01:00  2024-01-01T00:00:00+01:00        NO5   \n",
       "\n",
       "             PRODUKSJONSTYPE    VOLUM_KWH  \n",
       "719036     Vann uspesifisert  1988294,302  \n",
       "719037    Annen uspesifisert        0,000  \n",
       "719038      Sol uspesifisert       53,894  \n",
       "719039  Termisk uspesifisert    15734,000  \n",
       "719040     Vind uspesifisert        0,000  "
      ]
     },
     "execution_count": 3,
     "metadata": {},
     "output_type": "execute_result"
    }
   ],
   "source": [
    "ds1.tail()"
   ]
  },
  {
   "cell_type": "code",
   "execution_count": 4,
   "metadata": {},
   "outputs": [
    {
     "name": "stdout",
     "output_type": "stream",
     "text": [
      "            DATE PRISOMRÅDE     VOLUM_KWH\n",
      "0     2020-09-08        NO1  2.168865e+06\n",
      "1     2020-09-08        NO2  9.753790e+06\n",
      "2     2020-09-08        NO3  5.612005e+06\n",
      "3     2020-09-08        NO4  4.917535e+06\n",
      "4     2020-09-08        NO5  7.789809e+06\n",
      "...          ...        ...           ...\n",
      "6045  2023-12-31        NO1  3.292689e+07\n",
      "6046  2023-12-31        NO2  1.002392e+08\n",
      "6047  2023-12-31        NO3  6.385201e+07\n",
      "6048  2023-12-31        NO4  8.590868e+07\n",
      "6049  2023-12-31        NO5  4.967725e+07\n",
      "\n",
      "[6050 rows x 3 columns]\n"
     ]
    }
   ],
   "source": [
    "\n",
    "# Convert STARTTID to DateTime, including timezone\n",
    "ds1['STARTTID'] = pd.to_datetime(ds1['STARTTID'], utc=True)\n",
    "\n",
    "# Convert STARTTID to just date, ignoring time and timezone\n",
    "ds1['DATE'] = ds1['STARTTID'].dt.date\n",
    "\n",
    "# Replace commas with dots and convert VOLUM_KWH and ANTALL_MÅLEPUNKT to float\n",
    "ds1['VOLUM_KWH'] = ds1['VOLUM_KWH'].str.replace(',', '.').astype(float)\n",
    "\n",
    "# Define the range of PRISOMRÅDE values to filter\n",
    "prisområde_values = ['NO1', 'NO2', 'NO3', 'NO4', 'NO5']\n",
    "\n",
    "# Filter for PRISOMRÅDE values in the defined range\n",
    "filtered_ds1 = ds1[ds1['PRISOMRÅDE'].isin(prisområde_values)]\n",
    "\n",
    "# Group by DATE and PRISOMRÅDE, and summarize VOLUM_KWH and ANTALL_MÅLEPUNKT\n",
    "summary = filtered_ds1.groupby(['DATE', 'PRISOMRÅDE']).agg({\n",
    "    'VOLUM_KWH': 'sum',\n",
    "}).reset_index()\n",
    "\n",
    "print(summary)\n"
   ]
  },
  {
   "cell_type": "code",
   "execution_count": 5,
   "metadata": {},
   "outputs": [
    {
     "data": {
      "text/html": [
       "<div>\n",
       "<style scoped>\n",
       "    .dataframe tbody tr th:only-of-type {\n",
       "        vertical-align: middle;\n",
       "    }\n",
       "\n",
       "    .dataframe tbody tr th {\n",
       "        vertical-align: top;\n",
       "    }\n",
       "\n",
       "    .dataframe thead th {\n",
       "        text-align: right;\n",
       "    }\n",
       "</style>\n",
       "<table border=\"1\" class=\"dataframe\">\n",
       "  <thead>\n",
       "    <tr style=\"text-align: right;\">\n",
       "      <th></th>\n",
       "      <th>DATE</th>\n",
       "      <th>PRISOMRÅDE</th>\n",
       "      <th>VOLUM_KWH</th>\n",
       "    </tr>\n",
       "  </thead>\n",
       "  <tbody>\n",
       "    <tr>\n",
       "      <th>0</th>\n",
       "      <td>2020-09-08</td>\n",
       "      <td>NO1</td>\n",
       "      <td>2168865.186</td>\n",
       "    </tr>\n",
       "    <tr>\n",
       "      <th>1</th>\n",
       "      <td>2020-09-08</td>\n",
       "      <td>NO2</td>\n",
       "      <td>9753790.419</td>\n",
       "    </tr>\n",
       "    <tr>\n",
       "      <th>2</th>\n",
       "      <td>2020-09-08</td>\n",
       "      <td>NO3</td>\n",
       "      <td>5612004.600</td>\n",
       "    </tr>\n",
       "    <tr>\n",
       "      <th>3</th>\n",
       "      <td>2020-09-08</td>\n",
       "      <td>NO4</td>\n",
       "      <td>4917534.632</td>\n",
       "    </tr>\n",
       "    <tr>\n",
       "      <th>4</th>\n",
       "      <td>2020-09-08</td>\n",
       "      <td>NO5</td>\n",
       "      <td>7789808.636</td>\n",
       "    </tr>\n",
       "  </tbody>\n",
       "</table>\n",
       "</div>"
      ],
      "text/plain": [
       "         DATE PRISOMRÅDE    VOLUM_KWH\n",
       "0  2020-09-08        NO1  2168865.186\n",
       "1  2020-09-08        NO2  9753790.419\n",
       "2  2020-09-08        NO3  5612004.600\n",
       "3  2020-09-08        NO4  4917534.632\n",
       "4  2020-09-08        NO5  7789808.636"
      ]
     },
     "execution_count": 5,
     "metadata": {},
     "output_type": "execute_result"
    }
   ],
   "source": [
    "summary.head()\n"
   ]
  },
  {
   "cell_type": "code",
   "execution_count": 6,
   "metadata": {},
   "outputs": [
    {
     "data": {
      "text/html": [
       "<div>\n",
       "<style scoped>\n",
       "    .dataframe tbody tr th:only-of-type {\n",
       "        vertical-align: middle;\n",
       "    }\n",
       "\n",
       "    .dataframe tbody tr th {\n",
       "        vertical-align: top;\n",
       "    }\n",
       "\n",
       "    .dataframe thead th {\n",
       "        text-align: right;\n",
       "    }\n",
       "</style>\n",
       "<table border=\"1\" class=\"dataframe\">\n",
       "  <thead>\n",
       "    <tr style=\"text-align: right;\">\n",
       "      <th></th>\n",
       "      <th>DATE</th>\n",
       "      <th>PRISOMRÅDE</th>\n",
       "      <th>VOLUM_KWH</th>\n",
       "    </tr>\n",
       "  </thead>\n",
       "  <tbody>\n",
       "    <tr>\n",
       "      <th>6045</th>\n",
       "      <td>2023-12-31</td>\n",
       "      <td>NO1</td>\n",
       "      <td>3.292689e+07</td>\n",
       "    </tr>\n",
       "    <tr>\n",
       "      <th>6046</th>\n",
       "      <td>2023-12-31</td>\n",
       "      <td>NO2</td>\n",
       "      <td>1.002392e+08</td>\n",
       "    </tr>\n",
       "    <tr>\n",
       "      <th>6047</th>\n",
       "      <td>2023-12-31</td>\n",
       "      <td>NO3</td>\n",
       "      <td>6.385201e+07</td>\n",
       "    </tr>\n",
       "    <tr>\n",
       "      <th>6048</th>\n",
       "      <td>2023-12-31</td>\n",
       "      <td>NO4</td>\n",
       "      <td>8.590868e+07</td>\n",
       "    </tr>\n",
       "    <tr>\n",
       "      <th>6049</th>\n",
       "      <td>2023-12-31</td>\n",
       "      <td>NO5</td>\n",
       "      <td>4.967725e+07</td>\n",
       "    </tr>\n",
       "  </tbody>\n",
       "</table>\n",
       "</div>"
      ],
      "text/plain": [
       "            DATE PRISOMRÅDE     VOLUM_KWH\n",
       "6045  2023-12-31        NO1  3.292689e+07\n",
       "6046  2023-12-31        NO2  1.002392e+08\n",
       "6047  2023-12-31        NO3  6.385201e+07\n",
       "6048  2023-12-31        NO4  8.590868e+07\n",
       "6049  2023-12-31        NO5  4.967725e+07"
      ]
     },
     "execution_count": 6,
     "metadata": {},
     "output_type": "execute_result"
    }
   ],
   "source": [
    "summary.tail()"
   ]
  },
  {
   "cell_type": "code",
   "execution_count": 7,
   "metadata": {},
   "outputs": [],
   "source": [
    "summary.to_csv(\"Summert_produksjon_sone.csv\")"
   ]
  }
 ],
 "metadata": {
  "kernelspec": {
   "display_name": "Python 3",
   "language": "python",
   "name": "python3"
  },
  "language_info": {
   "codemirror_mode": {
    "name": "ipython",
    "version": 3
   },
   "file_extension": ".py",
   "mimetype": "text/x-python",
   "name": "python",
   "nbconvert_exporter": "python",
   "pygments_lexer": "ipython3",
   "version": "3.12.1"
  }
 },
 "nbformat": 4,
 "nbformat_minor": 2
}
