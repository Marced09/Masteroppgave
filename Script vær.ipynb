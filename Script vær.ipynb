{
 "cells": [
  {
   "cell_type": "code",
   "execution_count": 6,
   "metadata": {},
   "outputs": [],
   "source": [
    "import pandas as pd\n",
    "import os"
   ]
  },
  {
   "cell_type": "code",
   "execution_count": 9,
   "metadata": {},
   "outputs": [
    {
     "name": "stdout",
     "output_type": "stream",
     "text": [
      "Cleaned and saved: /Users/marcusedvardsen/Library/CloudStorage/OneDrive-NTNU/Masteroppgave/Python/værdata_test/Processed/Processed again/Clean/weather_stations_NO1_combined.csv\n",
      "Cleaned and saved: /Users/marcusedvardsen/Library/CloudStorage/OneDrive-NTNU/Masteroppgave/Python/værdata_test/Processed/Processed again/Clean/weather_stations_NO2_combined.csv\n",
      "Cleaned and saved: /Users/marcusedvardsen/Library/CloudStorage/OneDrive-NTNU/Masteroppgave/Python/værdata_test/Processed/Processed again/Clean/weather_stations_NO5_combined.csv\n",
      "Cleaned and saved: /Users/marcusedvardsen/Library/CloudStorage/OneDrive-NTNU/Masteroppgave/Python/værdata_test/Processed/Processed again/Clean/weather_stations_NO4_combined.csv\n",
      "Cleaned and saved: /Users/marcusedvardsen/Library/CloudStorage/OneDrive-NTNU/Masteroppgave/Python/værdata_test/Processed/Processed again/Clean/weather_stations_NO3_combined.csv\n"
     ]
    }
   ],
   "source": [
    "import pandas as pd\n",
    "import os\n",
    "\n",
    "# Directory containing the original CSV files\n",
    "source_directory = '/Users/marcusedvardsen/Library/CloudStorage/OneDrive-NTNU/Masteroppgave/Python/værdata_test/Processed/Processed again'\n",
    "\n",
    "# Directory where cleaned files will be saved\n",
    "cleaned_directory = '/Users/marcusedvardsen/Library/CloudStorage/OneDrive-NTNU/Masteroppgave/Python/værdata_test/Processed/Processed again/Clean'\n",
    "os.makedirs(cleaned_directory, exist_ok=True)  # Create the directory if it doesn't exist\n",
    "\n",
    "# Function to clean individual DataFrame\n",
    "def clean_dataframe(df):\n",
    "    df['referenceTime'] = pd.to_datetime(df['referenceTime'])\n",
    "    df.set_index('referenceTime', inplace=True)\n",
    "    df.index.names = ['Date']\n",
    "    df.drop(columns='Unnamed: 0', inplace=True)\n",
    "    return df.sort_index()\n",
    "\n",
    "    # Round all numeric columns to 3 decimal places\n",
    "for col in df.select_dtypes(include=['float64']).columns:\n",
    "    df[col] = df[col].round(3)\n",
    "\n",
    "# Iterate through each CSV file in the source directory\n",
    "for filename in os.listdir(source_directory):\n",
    "    if filename.endswith('.csv'):\n",
    "        file_path = os.path.join(source_directory, filename)\n",
    "        \n",
    "        # Read the CSV file\n",
    "        df = pd.read_csv(file_path)\n",
    "        \n",
    "        # Clean the DataFrame\n",
    "        cleaned_df = clean_dataframe(df)\n",
    "        \n",
    "        # Save the cleaned DataFrame to a new file in the cleaned directory\n",
    "        cleaned_file_path = os.path.join(cleaned_directory, filename)\n",
    "        cleaned_df.to_csv(cleaned_file_path)\n",
    "        \n",
    "        print(f\"Cleaned and saved: {cleaned_file_path}\")\n"
   ]
  }
 ],
 "metadata": {
  "kernelspec": {
   "display_name": "Python 3",
   "language": "python",
   "name": "python3"
  },
  "language_info": {
   "codemirror_mode": {
    "name": "ipython",
    "version": 3
   },
   "file_extension": ".py",
   "mimetype": "text/x-python",
   "name": "python",
   "nbconvert_exporter": "python",
   "pygments_lexer": "ipython3",
   "version": "3.9.6"
  }
 },
 "nbformat": 4,
 "nbformat_minor": 2
}
