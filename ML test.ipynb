{
 "cells": [
  {
   "cell_type": "code",
   "execution_count": 112,
   "metadata": {},
   "outputs": [],
   "source": [
    "import pandas as pd\n",
    "from datetime import datetime\n",
    "import matplotlib.pyplot as plt\n",
    "import seaborn as sns\n",
    "import numpy as np\n",
    "\n",
    "# import ML algorithms\n",
    "from sklearn.ensemble import RandomForestRegressor as rf\n",
    "from xgboost import XGBRegressor as xgbr\n",
    "from lightgbm import LGBMRegressor as lgbmr\n",
    "\n",
    "# to split dataset\n",
    "from sklearn.model_selection import train_test_split\n",
    "# to normalize data\n",
    "from sklearn.preprocessing import StandardScaler, MinMaxScaler\n",
    "# hyperparameter tuning algorithm\n",
    "from sklearn.model_selection import RandomizedSearchCV\n",
    "# performance measure\n",
    "from sklearn.metrics import mean_absolute_error as _mae"
   ]
  },
  {
   "cell_type": "code",
   "execution_count": 113,
   "metadata": {},
   "outputs": [],
   "source": [
    "\"\"\" CV is the number of cross validation folds \"\"\"\n",
    "def tuning(x_train, y_train, model, parameters):\n",
    "    ranSearch = RandomizedSearchCV(model, parameters, scoring='neg_mean_absolute_error', random_state=0, n_iter=10, n_jobs=-1) #n_jobs runs every process in parallel to save time\n",
    "\n",
    "    startTime = datetime.now()\n",
    "    ranSearch.fit(x_train, y_train)\n",
    "    time = datetime.now() - startTime\n",
    "    \n",
    "    best_model = ranSearch.best_estimator_\n",
    "    best_params = ranSearch.best_params_\n",
    "    best_val_scores = ranSearch.best_score_\n",
    "\n",
    "    return best_model, best_params, best_val_scores, time, \n",
    "\n",
    "\n",
    "\"\"\" Used to select the best performing model from hyperparameter tuning \"\"\"\n",
    "def model_selection(X_train, Y_train, X_val, Y_val, models, parameters):\n",
    "    # set to infinitly large, since we want to choose the lowest error\n",
    "    bestValPerformance = float('inf') \n",
    "    bestModel = models[0]\n",
    "    bestModelIndex = 0\n",
    "   \n",
    "    for i in range(len(models)):\n",
    "        model, params, valPerformance, tuning_time = tuning(X_train, Y_train, models[i], parameters[i])\n",
    "        print(f\"Model {i + 1} with tuning time: {tuning_time}:\")\n",
    "        print(f\"Best tuning performance: {valPerformance} \\nParameters: {params}\")\n",
    "\n",
    "        model, trainPerformance, valPerformance = train_val(model, X_train, Y_train, X_val, Y_val)\n",
    "        print(f\"Training performance: {'{:.3f}'.format(trainPerformance)}\")\n",
    "        print(f\"Validation performance: {'{:.3f}'.format(valPerformance)}\\n\")\n",
    "  \n",
    "        if valPerformance < bestValPerformance:\n",
    "            bestValPerformance = valPerformance\n",
    "            bestModel = model\n",
    "            bestModelIndex = i\n",
    "    print(f\"The selected tuned model is number {bestModelIndex + 1}\")\n",
    "    return bestModel\n",
    "\n",
    "\n",
    "\"\"\" Trains a selected model on training data and predicts on validation data to get the real performance values \"\"\"\n",
    "def train_val(model, X_train, Y_train, X_val, Y_val):\n",
    "    # train model on the whole training dataset\n",
    "    model.fit(X_train, Y_train)\n",
    "    trainPred = model.predict(X_train)\n",
    "    # make predictions on unseen validation data\n",
    "    pred = model.predict(X_val)\n",
    "    # calculate performance error with the given performance measure\n",
    "    trainPerformance = _mae(y_true=Y_train, y_pred=trainPred)\n",
    "    valPerformance = _mae(y_true=Y_val, y_pred=pred)\n",
    "    return model, trainPerformance, valPerformance\n",
    "\n",
    "\n",
    "\"\"\" Used to test the final model on unseen data, to get an idea of how the model will perform when deployed \"\"\"\n",
    "def model_evaluation(model, X_test, Y_test):\n",
    "    Y_pred = model.predict(X_test)\n",
    "    performance = _mae(y_true=Y_test, y_pred=Y_pred)\n",
    "    print(f\"Test performance: {'{:.3f}'.format(performance)}\")\n",
    "    return model, Y_pred\n",
    "\n",
    "\n",
    "\"\"\" Make predictions on unlabeled data: to get production value for each location \"\"\"\n",
    "def predictions(model, data):\n",
    "    pred = model.predict(data)\n",
    "    return model, pred"
   ]
  },
  {
   "cell_type": "code",
   "execution_count": 114,
   "metadata": {},
   "outputs": [],
   "source": [
    "\"\"\" Define a set of parameters for each algorithm to try out  \"\"\"\n",
    "\n",
    "# # HAVE TO LOOK OVER AND EDIT THESE PARAMETERS - they were chosen for another task\n",
    "# rf_params = {  'criterion' : ['entropy', 'gini'],\n",
    "#                 'n_estimators' : [100, 300, 600, 800],  # num of trees in the forest\n",
    "#                 'max_depth' : [40, 70, 100, 200, None],  # depth of tree. If none, nodes expand until all leaves=pure or contains less than min_samples_split\n",
    "#                 'bootstrap' : [True, False], # if bootstrap is used or not. False => whole dataset is used to build each tree\n",
    "#                 'min_samples_leaf' : [10, 15, 25, 35],    # min samples required to be at a leaf node\n",
    "#                 'min_samples_split' : [2, 5, 8, 15],       # min num of samples required to split an internal node\n",
    "#                 'max_features' : ['sqrt', 'log2', None], \n",
    "#                 'max_samples' : [0.8, 0.5, 0.3]       }  # max_samples*X_shape[0], so range = (0.0, 1.0]. Only when bootstrap=True\n",
    "\n",
    "# Random Forest Hyperparameter Grid\n",
    "rf_params = {\n",
    "    'n_estimators': [50, 100, 200],\n",
    "    'max_depth': [None, 10, 20],\n",
    "    'min_samples_split': [2, 5, 10],\n",
    "    'min_samples_leaf': [1, 2, 4],\n",
    "    'max_features': ['auto', 'sqrt', 'log2']\n",
    "}\n",
    "\n",
    "\n",
    "# xgbr_params = {\n",
    "#     'n_estimators': [50, 100, 200],\n",
    "#     'learning_rate': [0.01, 0.1, 0.2],\n",
    "#     'max_depth': [3, 5, 7],\n",
    "#     'subsample': [0.8, 0.9, 1.0],\n",
    "#     'colsample_bytree': [0.8, 0.9, 1.0],\n",
    "#     'gamma': [0, 1, 5],\n",
    "#     'min_child_weight': [1, 3, 5]\n",
    "# }\n",
    "\n",
    "# lgbmr_params = {\n",
    "#     'n_estimators': [50, 100, 150, 200],\n",
    "#     'learning_rate': [0.01, 0.1, 0.2],\n",
    "#     'max_depth': [-1, 10, 20, 30],\n",
    "#     'min_child_samples': [1, 5, 10],\n",
    "#     'subsample': [0.8, 0.9, 1.0],\n",
    "#     'colsample_bytree': [0.8, 0.9, 1.0],\n",
    "# }\n",
    "\n",
    "xgbr_params = {\n",
    "    'n_estimators': [50, 100],\n",
    "    'learning_rate': [0.01, 0.1],\n",
    "    'max_depth': [3, 5],\n",
    "    'subsample': [0.8, 1.0],\n",
    "    'colsample_bytree': [0.8, 1.0],\n",
    "    'gamma': [0, 1],\n",
    "    'min_child_weight': [1, 3]\n",
    "}\n",
    "\n",
    "lgbmr_params = {\n",
    "    'n_estimators': [50, 100],\n",
    "    'learning_rate': [0.01, 0.1],\n",
    "    'max_depth': [-1, 10],\n",
    "    'min_child_samples': [1, 5],\n",
    "    'subsample': [0.8, 1.0],\n",
    "    'colsample_bytree': [0.8, 1.0],\n",
    "    'scale_pos_weight': [1, 5, 10, 20]  # to handle imbalanced data\n",
    "}\n",
    "\n",
    "\n",
    "\n",
    "\n",
    "\n",
    "\"\"\"  \n",
    "We assume data is not linear:\n",
    "\n",
    "Random forest\n",
    "\n",
    "Gradient boosting algos: XGBoost, LightGBM, CatBoost\n",
    "\n",
    "SVR = support vector regression (SVM for regression)\n",
    "\n",
    "\"\"\"\n",
    "\n",
    "\"\"\" Create a model for each algorithm \"\"\"\n",
    "\n",
    "rf_model = rf(n_jobs = -1, random_state=0)\n",
    "\n",
    "xgbr_model = xgbr(seed=0) \n",
    "\n",
    "lgbmr_model = lgbmr(random_state=0) \n",
    "\n",
    "\n",
    "models = [rf_model, xgbr_model, lgbmr_model]\n",
    "parameters = [rf_params, xgbr_params, lgbmr_params]"
   ]
  },
  {
   "cell_type": "markdown",
   "metadata": {},
   "source": [
    "\n",
    "# DATA\n",
    "\n",
    "\n",
    "Data: \\\n",
    "\n",
    "DATE\t|   PRISOMRÅDE\t|   FORBRUK_KWH\t|   ANTALL_MÅLEPUNKT\t|   PRODUKSJON_KWH\t|   NETTO_PRODUKSJON_KWH\n",
    "Target data: \\\n",
    "NETTO_PRODUKSJON_KWH\n",
    "\n",
    "\n",
    "Prediction data:\\\n",
    "FORBRUK_KWH |   PRODUKSJON_KWH  |   PRISOMRÅDE"
   ]
  },
  {
   "cell_type": "code",
   "execution_count": 115,
   "metadata": {},
   "outputs": [
    {
     "name": "stdout",
     "output_type": "stream",
     "text": [
      "<class 'pandas.core.frame.DataFrame'>\n",
      "RangeIndex: 5480 entries, 0 to 5479\n",
      "Data columns (total 7 columns):\n",
      " #   Column                Non-Null Count  Dtype  \n",
      "---  ------                --------------  -----  \n",
      " 0   Unnamed: 0            5480 non-null   int64  \n",
      " 1   DATE                  5480 non-null   object \n",
      " 2   PRISOMRÅDE            5480 non-null   object \n",
      " 3   FORBRUK_KWH           5480 non-null   float64\n",
      " 4   ANTALL_MÅLEPUNKT      5480 non-null   float64\n",
      " 5   PRODUKSJON_KWH        5480 non-null   float64\n",
      " 6   NETTO_PRODUKSJON_KWH  5480 non-null   float64\n",
      "dtypes: float64(4), int64(1), object(2)\n",
      "memory usage: 299.8+ KB\n"
     ]
    }
   ],
   "source": [
    "# Load data\n",
    "\n",
    "energi_data = pd.read_csv(\"Summert_data.csv\")\n",
    "\n",
    "energi_data = energi_data.dropna()\n",
    "\n",
    "energi_data.info()\n"
   ]
  },
  {
   "cell_type": "code",
   "execution_count": 116,
   "metadata": {},
   "outputs": [],
   "source": [
    " # Split label away from rest of data (slicing)\n",
    "X = energi_data.drop(['Unnamed: 0','PRISOMRÅDE','ANTALL_MÅLEPUNKT','DATE'], axis = 1).values # data without labels\n",
    "Y = energi_data[['NETTO_PRODUKSJON_KWH']].values.ravel() # only labels\n",
    "\n",
    "\n",
    "# Split into training, validation and test data\n",
    "# 80% training, 10% validation, 10% test\n",
    "X_train, X_temp,Y_train, Y_temp = train_test_split(X, Y, test_size=(1-0.8), random_state=0)\n",
    "X_val, X_test, Y_val, Y_test = train_test_split(X_temp, Y_temp, test_size=0.5, random_state=0)"
   ]
  },
  {
   "cell_type": "code",
   "execution_count": 117,
   "metadata": {},
   "outputs": [
    {
     "data": {
      "image/png": "[encoded data removed]",
      "text/plain": [
       "<Figure size 640x480 with 1 Axes>"
      ]
     },
     "metadata": {},
     "output_type": "display_data"
    }
   ],
   "source": [
    "plt.hist(Y, bins=30, color='blue', alpha=0.7)\n",
    "plt.title('Production Distribution')\n",
    "plt.xlabel('')\n",
    "plt.ylabel('Netto produksjon')\n",
    "plt.show()"
   ]
  },
  {
   "cell_type": "code",
   "execution_count": 118,
   "metadata": {},
   "outputs": [
    {
     "data": {
      "text/html": [
       "<div>\n",
       "<style scoped>\n",
       "    .dataframe tbody tr th:only-of-type {\n",
       "        vertical-align: middle;\n",
       "    }\n",
       "\n",
       "    .dataframe tbody tr th {\n",
       "        vertical-align: top;\n",
       "    }\n",
       "\n",
       "    .dataframe thead th {\n",
       "        text-align: right;\n",
       "    }\n",
       "</style>\n",
       "<table border=\"1\" class=\"dataframe\">\n",
       "  <thead>\n",
       "    <tr style=\"text-align: right;\">\n",
       "      <th></th>\n",
       "      <th>Unnamed: 0</th>\n",
       "      <th>DATE</th>\n",
       "      <th>PRISOMRÅDE</th>\n",
       "      <th>FORBRUK_KWH</th>\n",
       "      <th>ANTALL_MÅLEPUNKT</th>\n",
       "      <th>PRODUKSJON_KWH</th>\n",
       "      <th>NETTO_PRODUKSJON_KWH</th>\n",
       "    </tr>\n",
       "  </thead>\n",
       "  <tbody>\n",
       "    <tr>\n",
       "      <th>0</th>\n",
       "      <td>0</td>\n",
       "      <td>2020-12-31</td>\n",
       "      <td>NO1</td>\n",
       "      <td>4.431074e+06</td>\n",
       "      <td>1280088.0</td>\n",
       "      <td>6.590307e+07</td>\n",
       "      <td>6.147199e+07</td>\n",
       "    </tr>\n",
       "    <tr>\n",
       "      <th>1</th>\n",
       "      <td>1</td>\n",
       "      <td>2020-12-31</td>\n",
       "      <td>NO2</td>\n",
       "      <td>4.364138e+06</td>\n",
       "      <td>792478.0</td>\n",
       "      <td>1.843103e+08</td>\n",
       "      <td>1.799462e+08</td>\n",
       "    </tr>\n",
       "    <tr>\n",
       "      <th>2</th>\n",
       "      <td>2</td>\n",
       "      <td>2020-12-31</td>\n",
       "      <td>NO3</td>\n",
       "      <td>3.112774e+06</td>\n",
       "      <td>518723.0</td>\n",
       "      <td>7.663197e+07</td>\n",
       "      <td>7.351919e+07</td>\n",
       "    </tr>\n",
       "    <tr>\n",
       "      <th>3</th>\n",
       "      <td>3</td>\n",
       "      <td>2020-12-31</td>\n",
       "      <td>NO4</td>\n",
       "      <td>1.997586e+06</td>\n",
       "      <td>330240.0</td>\n",
       "      <td>9.987718e+07</td>\n",
       "      <td>9.787959e+07</td>\n",
       "    </tr>\n",
       "    <tr>\n",
       "      <th>4</th>\n",
       "      <td>4</td>\n",
       "      <td>2020-12-31</td>\n",
       "      <td>NO5</td>\n",
       "      <td>2.040974e+06</td>\n",
       "      <td>320541.0</td>\n",
       "      <td>1.120536e+08</td>\n",
       "      <td>1.100126e+08</td>\n",
       "    </tr>\n",
       "    <tr>\n",
       "      <th>...</th>\n",
       "      <td>...</td>\n",
       "      <td>...</td>\n",
       "      <td>...</td>\n",
       "      <td>...</td>\n",
       "      <td>...</td>\n",
       "      <td>...</td>\n",
       "      <td>...</td>\n",
       "    </tr>\n",
       "    <tr>\n",
       "      <th>5475</th>\n",
       "      <td>5475</td>\n",
       "      <td>2023-12-31</td>\n",
       "      <td>NO1</td>\n",
       "      <td>1.148390e+08</td>\n",
       "      <td>30595727.0</td>\n",
       "      <td>3.292689e+07</td>\n",
       "      <td>-8.191216e+07</td>\n",
       "    </tr>\n",
       "    <tr>\n",
       "      <th>5476</th>\n",
       "      <td>5476</td>\n",
       "      <td>2023-12-31</td>\n",
       "      <td>NO2</td>\n",
       "      <td>1.038580e+08</td>\n",
       "      <td>18874214.0</td>\n",
       "      <td>1.002392e+08</td>\n",
       "      <td>-3.618725e+06</td>\n",
       "    </tr>\n",
       "    <tr>\n",
       "      <th>5477</th>\n",
       "      <td>5477</td>\n",
       "      <td>2023-12-31</td>\n",
       "      <td>NO3</td>\n",
       "      <td>8.617064e+07</td>\n",
       "      <td>12320502.0</td>\n",
       "      <td>6.385201e+07</td>\n",
       "      <td>-2.231863e+07</td>\n",
       "    </tr>\n",
       "    <tr>\n",
       "      <th>5478</th>\n",
       "      <td>5478</td>\n",
       "      <td>2023-12-31</td>\n",
       "      <td>NO4</td>\n",
       "      <td>5.950658e+07</td>\n",
       "      <td>7775219.0</td>\n",
       "      <td>8.590868e+07</td>\n",
       "      <td>2.640210e+07</td>\n",
       "    </tr>\n",
       "    <tr>\n",
       "      <th>5479</th>\n",
       "      <td>5479</td>\n",
       "      <td>2023-12-31</td>\n",
       "      <td>NO5</td>\n",
       "      <td>4.817285e+07</td>\n",
       "      <td>7808845.0</td>\n",
       "      <td>4.967725e+07</td>\n",
       "      <td>1.504403e+06</td>\n",
       "    </tr>\n",
       "  </tbody>\n",
       "</table>\n",
       "<p>5480 rows × 7 columns</p>\n",
       "</div>"
      ],
      "text/plain": [
       "      Unnamed: 0        DATE PRISOMRÅDE   FORBRUK_KWH  ANTALL_MÅLEPUNKT  \\\n",
       "0              0  2020-12-31        NO1  4.431074e+06         1280088.0   \n",
       "1              1  2020-12-31        NO2  4.364138e+06          792478.0   \n",
       "2              2  2020-12-31        NO3  3.112774e+06          518723.0   \n",
       "3              3  2020-12-31        NO4  1.997586e+06          330240.0   \n",
       "4              4  2020-12-31        NO5  2.040974e+06          320541.0   \n",
       "...          ...         ...        ...           ...               ...   \n",
       "5475        5475  2023-12-31        NO1  1.148390e+08        30595727.0   \n",
       "5476        5476  2023-12-31        NO2  1.038580e+08        18874214.0   \n",
       "5477        5477  2023-12-31        NO3  8.617064e+07        12320502.0   \n",
       "5478        5478  2023-12-31        NO4  5.950658e+07         7775219.0   \n",
       "5479        5479  2023-12-31        NO5  4.817285e+07         7808845.0   \n",
       "\n",
       "      PRODUKSJON_KWH  NETTO_PRODUKSJON_KWH  \n",
       "0       6.590307e+07          6.147199e+07  \n",
       "1       1.843103e+08          1.799462e+08  \n",
       "2       7.663197e+07          7.351919e+07  \n",
       "3       9.987718e+07          9.787959e+07  \n",
       "4       1.120536e+08          1.100126e+08  \n",
       "...              ...                   ...  \n",
       "5475    3.292689e+07         -8.191216e+07  \n",
       "5476    1.002392e+08         -3.618725e+06  \n",
       "5477    6.385201e+07         -2.231863e+07  \n",
       "5478    8.590868e+07          2.640210e+07  \n",
       "5479    4.967725e+07          1.504403e+06  \n",
       "\n",
       "[5480 rows x 7 columns]"
      ]
     },
     "execution_count": 118,
     "metadata": {},
     "output_type": "execute_result"
    }
   ],
   "source": [
    "energi_data"
   ]
  },
  {
   "cell_type": "code",
   "execution_count": 119,
   "metadata": {},
   "outputs": [
    {
     "data": {
      "text/plain": [
       "False"
      ]
     },
     "execution_count": 119,
     "metadata": {},
     "output_type": "execute_result"
    }
   ],
   "source": [
    "np.any(np.isnan(X))\n"
   ]
  },
  {
   "cell_type": "code",
   "execution_count": 120,
   "metadata": {},
   "outputs": [
    {
     "data": {
      "text/plain": [
       "dtype('float64')"
      ]
     },
     "execution_count": 120,
     "metadata": {},
     "output_type": "execute_result"
    }
   ],
   "source": [
    "X.dtype"
   ]
  },
  {
   "cell_type": "code",
   "execution_count": 121,
   "metadata": {},
   "outputs": [
    {
     "data": {
      "text/plain": [
       "(5480, 3)"
      ]
     },
     "execution_count": 121,
     "metadata": {},
     "output_type": "execute_result"
    }
   ],
   "source": [
    "X.shape\n"
   ]
  },
  {
   "cell_type": "code",
   "execution_count": 122,
   "metadata": {},
   "outputs": [
    {
     "data": {
      "text/plain": [
       "-105899650.812"
      ]
     },
     "execution_count": 122,
     "metadata": {},
     "output_type": "execute_result"
    }
   ],
   "source": [
    "min(Y)\n"
   ]
  },
  {
   "cell_type": "code",
   "execution_count": 123,
   "metadata": {},
   "outputs": [],
   "source": [
    "# normalize data based on mean and standard deviation of the training data\n",
    "#normalizer = StandardScaler()\n",
    "\n",
    "#X_train_norm = normalizer.fit_transform(X_train)\n",
    "#X_val_norm = normalizer.transform(X_val)\n",
    "#X_test_norm = normalizer.transform(X_test)"
   ]
  },
  {
   "cell_type": "code",
   "execution_count": 126,
   "metadata": {},
   "outputs": [],
   "source": [
    "\n",
    "# Create temporary DataFrame from the array (Assuming you know the column names)\n",
    "column_names = ['NETTO_PRODUKSJON_KWH', 'PRODUKSJON_KWH', 'FORBRUK_KWH']  # list all column names\n",
    "X_train_df = pd.DataFrame(X_train, columns=column_names)\n",
    "\n",
    "# Now use select_dtypes\n",
    "numeric_cols = X_train_df.select_dtypes(include=[np.number]).columns\n",
    "\n",
    "\n",
    "# Convert the selected columns back to NumPy array for scaling\n",
    "X_train_numeric = X_train_df[numeric_cols].to_numpy()\n",
    "\n",
    "# Apply scaling\n",
    "normalizer = StandardScaler()\n",
    "X_train_norm = normalizer.fit_transform(X_train_numeric)\n",
    "\n",
    "# Repeat the process for X_val and X_test\n",
    "X_val_df = pd.DataFrame(X_val, columns=column_names)\n",
    "X_val_numeric = X_val_df[numeric_cols].to_numpy()\n",
    "X_val_norm = normalizer.transform(X_val_numeric)\n",
    "\n",
    "X_test_df = pd.DataFrame(X_test, columns=column_names)\n",
    "X_test_numeric = X_test_df[numeric_cols].to_numpy()\n",
    "X_test_norm = normalizer.transform(X_test_numeric)\n",
    "\n"
   ]
  },
  {
   "cell_type": "code",
   "execution_count": 128,
   "metadata": {},
   "outputs": [],
   "source": [
    "# Assuming X_train, X_val, and X_test are similar to this DataFrame structure\n",
    "\n",
    "# Identify numeric columns for scaling (excluding 'Unnamed: 0' and non-numeric columns)\n",
    "#numeric_cols = X_train.select_dtypes(include=[np.number]).columns\n",
    "#numeric_cols = numeric_cols.drop(['Unnamed: 0'])  # Drop 'Unnamed: 0' if it's just an index"
   ]
  },
  {
   "cell_type": "code",
   "execution_count": 129,
   "metadata": {},
   "outputs": [
    {
     "ename": "IndexError",
     "evalue": "only integers, slices (`:`), ellipsis (`...`), numpy.newaxis (`None`) and integer or boolean arrays are valid indices",
     "output_type": "error",
     "traceback": [
      "\u001b[1;31m---------------------------------------------------------------------------\u001b[0m",
      "\u001b[1;31mIndexError\u001b[0m                                Traceback (most recent call last)",
      "Cell \u001b[1;32mIn[129], line 4\u001b[0m\n\u001b[0;32m      2\u001b[0m normalizer \u001b[38;5;241m=\u001b[39m StandardScaler()\n\u001b[0;32m      3\u001b[0m X_train_norm \u001b[38;5;241m=\u001b[39m X_train\u001b[38;5;241m.\u001b[39mcopy()\n\u001b[1;32m----> 4\u001b[0m X_train_norm[numeric_cols] \u001b[38;5;241m=\u001b[39m normalizer\u001b[38;5;241m.\u001b[39mfit_transform(\u001b[43mX_train\u001b[49m\u001b[43m[\u001b[49m\u001b[43mnumeric_cols\u001b[49m\u001b[43m]\u001b[49m)\n\u001b[0;32m      6\u001b[0m X_val_norm \u001b[38;5;241m=\u001b[39m X_val\u001b[38;5;241m.\u001b[39mcopy()\n\u001b[0;32m      7\u001b[0m X_val_norm[numeric_cols] \u001b[38;5;241m=\u001b[39m normalizer\u001b[38;5;241m.\u001b[39mtransform(X_val[numeric_cols])\n",
      "\u001b[1;31mIndexError\u001b[0m: only integers, slices (`:`), ellipsis (`...`), numpy.newaxis (`None`) and integer or boolean arrays are valid indices"
     ]
    }
   ],
   "source": [
    "\n",
    "# Apply StandardScaler only to these numeric columns\n",
    "#normalizer = StandardScaler()\n",
    "#X_train_norm = X_train.copy()\n",
    "#X_train_norm[numeric_cols] = normalizer.fit_transform(X_train[numeric_cols])\n",
    "\n",
    "#X_val_norm = X_val.copy()\n",
    "#X_val_norm[numeric_cols] = normalizer.transform(X_val[numeric_cols])\n",
    "\n",
    "#X_test_norm = X_test.copy()\n",
    "#X_test_norm[numeric_cols] = normalizer.transform(X_test[numeric_cols])\n"
   ]
  },
  {
   "cell_type": "code",
   "execution_count": 130,
   "metadata": {},
   "outputs": [
    {
     "name": "stdout",
     "output_type": "stream",
     "text": [
      "Model 1 with tuning time: 0:00:37.449638:\n",
      "Best tuning performance: -445517.2747256121 \n",
      "Parameters: {'n_estimators': 100, 'min_samples_split': 2, 'min_samples_leaf': 2, 'max_features': 'sqrt', 'max_depth': None}\n",
      "Training performance: 225055.520\n",
      "Validation performance: 33031088.643\n",
      "\n",
      "Model 2 with tuning time: 0:00:06.013926:\n",
      "Best tuning performance: -260515.61787398843 \n",
      "Parameters: {'subsample': 1.0, 'n_estimators': 100, 'min_child_weight': 3, 'max_depth': 5, 'learning_rate': 0.1, 'gamma': 1, 'colsample_bytree': 1.0}\n",
      "Training performance: 206021.856\n",
      "Validation performance: 33148109.154\n",
      "\n",
      "[LightGBM] [Info] Auto-choosing col-wise multi-threading, the overhead of testing was 0.000260 seconds.\n",
      "You can set `force_col_wise=true` to remove the overhead.\n",
      "[LightGBM] [Info] Total Bins 765\n",
      "[LightGBM] [Info] Number of data points in the train set: 4384, number of used features: 3\n",
      "[LightGBM] [Info] Start training from score 13089060.754276\n",
      "Model 3 with tuning time: 0:00:12.640392:\n",
      "Best tuning performance: -272884.0616767473 \n",
      "Parameters: {'subsample': 0.8, 'scale_pos_weight': 1, 'n_estimators': 100, 'min_child_samples': 1, 'max_depth': -1, 'learning_rate': 0.1, 'colsample_bytree': 1.0}\n",
      "[LightGBM] [Info] Auto-choosing col-wise multi-threading, the overhead of testing was 0.000728 seconds.\n",
      "You can set `force_col_wise=true` to remove the overhead.\n",
      "[LightGBM] [Info] Total Bins 765\n",
      "[LightGBM] [Info] Number of data points in the train set: 4384, number of used features: 3\n",
      "[LightGBM] [Info] Start training from score 13089060.754276\n",
      "Training performance: 162500.362\n",
      "Validation performance: 33252832.455\n",
      "\n",
      "The selected tuned model is number 1\n"
     ]
    }
   ],
   "source": [
    "# run model selection with tuning data\n",
    "#model = model_selection(x_train=tune_X_train, y_train=tune_Y_train, x_val=tune_X_val, y_val=tune_Y_val, models=models, parameters=parameters)\n",
    "selected_model = model_selection(X_train=X_train_norm, Y_train=Y_train, X_val=X_val_norm, Y_val=Y_val, models=models, parameters=parameters)"
   ]
  },
  {
   "cell_type": "code",
   "execution_count": 131,
   "metadata": {},
   "outputs": [
    {
     "name": "stdout",
     "output_type": "stream",
     "text": [
      "Test performance: 34717822.025\n"
     ]
    }
   ],
   "source": [
    "# run model_evaluation with test data\n",
    "selected_model, Y_pred = model_evaluation(model=selected_model, X_test=X_test_norm, Y_test=Y_test)"
   ]
  },
  {
   "cell_type": "code",
   "execution_count": 133,
   "metadata": {},
   "outputs": [
    {
     "data": {
      "text/plain": [
       "3"
      ]
     },
     "execution_count": 133,
     "metadata": {},
     "output_type": "execute_result"
    }
   ],
   "source": [
    "feature_names = ['PRODUKSJON_KWH','FORBRUK_KWH','NETTO_PRODUKSJON_KWH']\n",
    "\n",
    "len(feature_names)"
   ]
  },
  {
   "cell_type": "code",
   "execution_count": 134,
   "metadata": {},
   "outputs": [
    {
     "data": {
      "image/png": "[encoded data removed]",
      "text/plain": [
       "<Figure size 1000x800 with 2 Axes>"
      ]
     },
     "metadata": {},
     "output_type": "display_data"
    }
   ],
   "source": [
    "# show feature importance stuff here\n",
    "feature_importances = selected_model.feature_importances_\n",
    "\n",
    "\n",
    "df_importance = pd.DataFrame({'Feature': feature_names, 'Importance': feature_importances})\n",
    "\n",
    "heatmap_data = df_importance.pivot_table(index='Feature', values='Importance', aggfunc='mean')\n",
    "\n",
    "# Create a heatmap\n",
    "plt.figure(figsize=(10, 8))\n",
    "sns.heatmap(heatmap_data, cmap=\"YlGnBu\", annot=True, fmt=\".3f\", linewidths=.5)\n",
    "plt.title('Feature Importance Heatmap')\n",
    "plt.show()"
   ]
  },
  {
   "cell_type": "code",
   "execution_count": 135,
   "metadata": {},
   "outputs": [
    {
     "name": "stdout",
     "output_type": "stream",
     "text": [
      "548\n"
     ]
    }
   ],
   "source": [
    "print(len(Y_pred))"
   ]
  },
  {
   "cell_type": "code",
   "execution_count": 136,
   "metadata": {},
   "outputs": [
    {
     "data": {
      "image/png": "[encoded data removed]",
      "text/plain": [
       "<Figure size 640x480 with 1 Axes>"
      ]
     },
     "metadata": {},
     "output_type": "display_data"
    }
   ],
   "source": [
    "\n",
    "plt.scatter(Y_test, Y_pred, alpha=0.5)\n",
    "plt.xlabel(\"Actual Values\")\n",
    "plt.ylabel(\"Predicted Values\")\n",
    "plt.title(\"Regression Model: Predictions vs Actual Values\")\n",
    "plt.show()"
   ]
  },
  {
   "cell_type": "code",
   "execution_count": 137,
   "metadata": {},
   "outputs": [
    {
     "data": {
      "image/png": "[encoded data removed]",
      "text/plain": [
       "<Figure size 1000x600 with 1 Axes>"
      ]
     },
     "metadata": {},
     "output_type": "display_data"
    }
   ],
   "source": [
    "index_values = np.arange(len(Y_pred))\n",
    "plt.figure(figsize=(10, 6))\n",
    "plt.scatter(index_values, Y_pred, label='Predicted Y', marker='o', color='blue', alpha=0.7)\n",
    "plt.xlabel('Index')\n",
    "plt.ylabel('Predicted Y')\n",
    "plt.title('Predicted Y Without Considering Time')\n",
    "plt.legend()\n",
    "plt.show()"
   ]
  },
  {
   "cell_type": "code",
   "execution_count": 138,
   "metadata": {},
   "outputs": [
    {
     "name": "stdout",
     "output_type": "stream",
     "text": [
      "                            OLS Regression Results                            \n",
      "==============================================================================\n",
      "Dep. Variable:                      y   R-squared:                       1.000\n",
      "Model:                            OLS   Adj. R-squared:                  1.000\n",
      "Method:                 Least Squares   F-statistic:                 9.415e+33\n",
      "Date:                Fri, 26 Jan 2024   Prob (F-statistic):               0.00\n",
      "Time:                        13:52:12   Log-Likelihood:                 71821.\n",
      "No. Observations:                4384   AIC:                        -1.436e+05\n",
      "Df Residuals:                    4381   BIC:                        -1.436e+05\n",
      "Df Model:                           2                                         \n",
      "Covariance Type:            nonrobust                                         \n",
      "==============================================================================\n",
      "                 coef    std err          t      P>|t|      [0.025      0.975]\n",
      "------------------------------------------------------------------------------\n",
      "const       3.015e-08   8.99e-10     33.525      0.000    2.84e-08    3.19e-08\n",
      "x1            -0.3333   5.21e-17  -6.39e+15      0.000      -0.333      -0.333\n",
      "x2             0.3333    6.3e-17   5.29e+15      0.000       0.333       0.333\n",
      "x3             0.6667   5.97e-17   1.12e+16      0.000       0.667       0.667\n",
      "==============================================================================\n",
      "Omnibus:                      293.535   Durbin-Watson:                   0.921\n",
      "Prob(Omnibus):                  0.000   Jarque-Bera (JB):              451.133\n",
      "Skew:                           0.544   Prob(JB):                     1.09e-98\n",
      "Kurtosis:                       4.133   Cond. No.                     3.62e+15\n",
      "==============================================================================\n",
      "\n",
      "Notes:\n",
      "[1] Standard Errors assume that the covariance matrix of the errors is correctly specified.\n",
      "[2] The smallest eigenvalue is 4.56e-12. This might indicate that there are\n",
      "strong multicollinearity problems or that the design matrix is singular.\n"
     ]
    }
   ],
   "source": [
    "import statsmodels.api as sm\n",
    "\n",
    "df = pd.DataFrame({'Actual': Y_test, 'Predicted': Y_pred})\n",
    "\n",
    "# Add a constant term for the intercept\n",
    "X = sm.add_constant(X_test)\n",
    "\n",
    "# Fit the regression model\n",
    "model = sm.OLS(Y_train, sm.add_constant(X_train))\n",
    "results = model.fit()\n",
    "\n",
    "# Display the regression summary\n",
    "print(results.summary())"
   ]
  }
 ],
 "metadata": {
  "kernelspec": {
   "display_name": "Python 3",
   "language": "python",
   "name": "python3"
  },
  "language_info": {
   "codemirror_mode": {
    "name": "ipython",
    "version": 3
   },
   "file_extension": ".py",
   "mimetype": "text/x-python",
   "name": "python",
   "nbconvert_exporter": "python",
   "pygments_lexer": "ipython3",
   "version": "3.12.1"
  }
 },
 "nbformat": 4,
 "nbformat_minor": 2
}
