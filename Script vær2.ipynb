{
 "cells": [
  {
   "cell_type": "code",
   "execution_count": 1,
   "metadata": {},
   "outputs": [
    {
     "name": "stdout",
     "output_type": "stream",
     "text": [
      "Combined data for NO1 saved to værdata_test/Processed/Processed again/weather_stations_NO1_combined.csv\n",
      "Combined data for NO5 saved to værdata_test/Processed/Processed again/weather_stations_NO5_combined.csv\n",
      "Combined data for NO4 saved to værdata_test/Processed/Processed again/weather_stations_NO4_combined.csv\n",
      "Combined data for NO3 saved to værdata_test/Processed/Processed again/weather_stations_NO3_combined.csv\n",
      "Combined data for NO2 saved to værdata_test/Processed/Processed again/weather_stations_NO2_combined.csv\n"
     ]
    }
   ],
   "source": [
    "import pandas as pd\n",
    "import os\n",
    "\n",
    "# Path to the directory containing your original CSV files\n",
    "source_directory_path = \"værdata_test/Processed\"\n",
    "processed_directory_path = \"værdata_test/Processed/Processed again\"\n",
    "os.makedirs(processed_directory_path, exist_ok=True)  # Create the directory if it does not exist\n",
    "\n",
    "# List all CSV files in the source directory\n",
    "csv_files = [f for f in os.listdir(source_directory_path) if f.endswith('.csv')]\n",
    "\n",
    "# Group files by pricing zone\n",
    "files_by_zone = {}\n",
    "for file in csv_files:\n",
    "    # Assuming the zone is always after the first underscore and before the second in the filename\n",
    "    zone = file.split('_')[2]\n",
    "    if zone not in files_by_zone:\n",
    "        files_by_zone[zone] = []\n",
    "    files_by_zone[zone].append(os.path.join(source_directory_path, file))\n",
    "\n",
    "# Read and concatenate the data for each zone, then save to the new folder\n",
    "for zone, files in files_by_zone.items():\n",
    "    combined_df = pd.concat([pd.read_csv(f) for f in files])\n",
    "    combined_filename = os.path.join(processed_directory_path, f\"weather_stations_{zone}_combined.csv\")\n",
    "    combined_df.to_csv(combined_filename, index=False)\n",
    "    print(f\"Combined data for {zone} saved to {combined_filename}\")\n"
   ]
  }
 ],
 "metadata": {
  "kernelspec": {
   "display_name": "Python 3",
   "language": "python",
   "name": "python3"
  },
  "language_info": {
   "codemirror_mode": {
    "name": "ipython",
    "version": 3
   },
   "file_extension": ".py",
   "mimetype": "text/x-python",
   "name": "python",
   "nbconvert_exporter": "python",
   "pygments_lexer": "ipython3",
   "version": "3.9.6"
  }
 },
 "nbformat": 4,
 "nbformat_minor": 2
}
